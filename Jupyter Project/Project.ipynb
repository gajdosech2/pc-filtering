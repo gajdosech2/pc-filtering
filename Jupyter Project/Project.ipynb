{
 "cells": [
  {
   "cell_type": "markdown",
   "metadata": {
    "colab_type": "text",
    "id": "WEnT4bZnu5jQ"
   },
   "source": [
    "# Project"
   ]
  },
  {
   "cell_type": "code",
   "execution_count": 2,
   "metadata": {
    "colab": {
     "base_uri": "https://localhost:8080/",
     "height": 435
    },
    "colab_type": "code",
    "id": "-ZlMuBGau5ji",
    "outputId": "5da0cfb2-cb8b-4e74-b855-c6f5ee880513"
   },
   "outputs": [
    {
     "name": "stdout",
     "output_type": "stream",
     "text": [
      "[[0.000e+00 3.395e+03 1.000e+00]\n",
      " [1.000e+00 3.396e+03 1.000e+00]\n",
      " [2.000e+00 3.397e+03 1.000e+00]\n",
      " [3.000e+00 3.398e+03 1.000e+00]\n",
      " [4.000e+00 3.399e+03 1.000e+00]]\n"
     ]
    }
   ],
   "source": [
    "import numpy as np\n",
    "#import pandas as pd\n",
    "#from sklearn import svm\n",
    "#from sklearn.model_selection import train_test_split\n",
    "#from matplotlib import pyplot as plt\n",
    "\n",
    "labels_file = \"../Model/NeuralNetworkFiles/\" + \"parts_03_truth.csv\"\n",
    "labels = np.loadtxt(labels_file, delimiter=',')\n",
    "print(labels[:5])\n",
    "\n",
    "#table = pd.read_csv('taxi+_zone_lookup.csv')\n",
    "#taxi = pd.read_csv('green_tripdata_2019-01.csv')"
   ]
  },
  {
   "cell_type": "code",
   "execution_count": 0,
   "metadata": {
    "colab": {
     "base_uri": "https://localhost:8080/",
     "height": 204
    },
    "colab_type": "code",
    "id": "uqJeDH0Jgq3u",
    "outputId": "3c13268c-c4a7-4421-e61f-54dfdb4dee1b"
   },
   "outputs": [
    {
     "data": {
      "text/html": [
       "<div>\n",
       "<style scoped>\n",
       "    .dataframe tbody tr th:only-of-type {\n",
       "        vertical-align: middle;\n",
       "    }\n",
       "\n",
       "    .dataframe tbody tr th {\n",
       "        vertical-align: top;\n",
       "    }\n",
       "\n",
       "    .dataframe thead th {\n",
       "        text-align: right;\n",
       "    }\n",
       "</style>\n",
       "<table border=\"1\" class=\"dataframe\">\n",
       "  <thead>\n",
       "    <tr style=\"text-align: right;\">\n",
       "      <th></th>\n",
       "      <th>tip</th>\n",
       "      <th>PULocationID</th>\n",
       "      <th>PUNeighborhood</th>\n",
       "      <th>DOLocationID</th>\n",
       "      <th>DONeighborhood</th>\n",
       "    </tr>\n",
       "  </thead>\n",
       "  <tbody>\n",
       "    <tr>\n",
       "      <th>21766</th>\n",
       "      <td>False</td>\n",
       "      <td>78</td>\n",
       "      <td>0</td>\n",
       "      <td>78</td>\n",
       "      <td>0</td>\n",
       "    </tr>\n",
       "    <tr>\n",
       "      <th>22905</th>\n",
       "      <td>True</td>\n",
       "      <td>75</td>\n",
       "      <td>3</td>\n",
       "      <td>166</td>\n",
       "      <td>3</td>\n",
       "    </tr>\n",
       "    <tr>\n",
       "      <th>24007</th>\n",
       "      <td>False</td>\n",
       "      <td>74</td>\n",
       "      <td>3</td>\n",
       "      <td>41</td>\n",
       "      <td>3</td>\n",
       "    </tr>\n",
       "    <tr>\n",
       "      <th>23408</th>\n",
       "      <td>True</td>\n",
       "      <td>24</td>\n",
       "      <td>3</td>\n",
       "      <td>142</td>\n",
       "      <td>3</td>\n",
       "    </tr>\n",
       "    <tr>\n",
       "      <th>23545</th>\n",
       "      <td>False</td>\n",
       "      <td>116</td>\n",
       "      <td>3</td>\n",
       "      <td>116</td>\n",
       "      <td>3</td>\n",
       "    </tr>\n",
       "  </tbody>\n",
       "</table>\n",
       "</div>"
      ],
      "text/plain": [
       "         tip  PULocationID  PUNeighborhood  DOLocationID  DONeighborhood\n",
       "21766  False            78               0            78               0\n",
       "22905   True            75               3           166               3\n",
       "24007  False            74               3            41               3\n",
       "23408   True            24               3           142               3\n",
       "23545  False           116               3           116               3"
      ]
     },
     "execution_count": 25,
     "metadata": {
      "tags": []
     },
     "output_type": "execute_result"
    }
   ],
   "source": [
    "train, test = train_test_split(df, test_size=0.2)\n",
    "train, val = train_test_split(train, test_size=0.2)\n",
    "\n",
    "train_X = train[['tip', 'PULocationID', 'PUNeighborhood', 'DOLocationID', 'DONeighborhood']]\n",
    "train_y = train['payment_type']\n",
    "val_X = val[['tip', 'PULocationID', 'PUNeighborhood', 'DOLocationID', 'DONeighborhood']]\n",
    "val_y = val['payment_type']\n",
    "test_X = test[['tip', 'PULocationID', 'PUNeighborhood', 'DOLocationID', 'DONeighborhood']]\n",
    "test_y = test['payment_type']\n",
    "\n",
    "train_X.head()"
   ]
  },
  {
   "cell_type": "markdown",
   "metadata": {
    "colab_type": "text",
    "id": "yhchzYAxKNou"
   },
   "source": [
    "# Model fitting"
   ]
  },
  {
   "cell_type": "code",
   "execution_count": 0,
   "metadata": {
    "colab": {
     "base_uri": "https://localhost:8080/",
     "height": 55
    },
    "colab_type": "code",
    "id": "7ZElIFH8o63W",
    "outputId": "2c9807df-0ec1-4283-d0d6-d7a3b3fca88b"
   },
   "outputs": [
    {
     "name": "stdout",
     "output_type": "stream",
     "text": [
      "Train accuracy: 0.785546875\n",
      "Validation accuracy: 0.8015625\n"
     ]
    }
   ],
   "source": [
    "rbf_svm = svm.SVC(C=1000, gamma=1/100000, kernel='rbf')\n",
    "rbf_svm.fit(train_X, train_y)\n",
    "print(\"Train accuracy: {}\".format(rbf_svm.score(train_X, train_y)))\n",
    "print(\"Validation accuracy: {}\".format(rbf_svm.score(val_X, val_y)))"
   ]
  },
  {
   "cell_type": "markdown",
   "metadata": {
    "colab_type": "text",
    "id": "splLOfKvKhjb"
   },
   "source": [
    "Final test accuracy confirms, that the model is right about 80% of the time, not bad! I suppose this confirms the claim, that there really is a correlation between the location of the passanger, his willingness to pay the tip and the type of payment he has used."
   ]
  },
  {
   "cell_type": "code",
   "execution_count": 0,
   "metadata": {
    "colab": {
     "base_uri": "https://localhost:8080/",
     "height": 36
    },
    "colab_type": "code",
    "id": "xjMGpZE97f5g",
    "outputId": "1a0e1348-fa68-433d-f134-0f1907645dcb"
   },
   "outputs": [
    {
     "name": "stdout",
     "output_type": "stream",
     "text": [
      "Test accuracy: 0.79125\n"
     ]
    }
   ],
   "source": [
    "print(\"Test accuracy: {}\".format(rbf_svm.score(test_X, test_y)))"
   ]
  },
  {
   "cell_type": "markdown",
   "metadata": {
    "colab_type": "text",
    "id": "Hl8wzhIi_uLh"
   },
   "source": [
    "\n",
    "\n",
    "---\n"
   ]
  }
 ],
 "metadata": {
  "colab": {
   "collapsed_sections": [],
   "name": "Project.ipynb",
   "provenance": [],
   "toc_visible": true
  },
  "kernelspec": {
   "display_name": "Python 3",
   "language": "python",
   "name": "python3"
  },
  "language_info": {
   "codemirror_mode": {
    "name": "ipython",
    "version": 3
   },
   "file_extension": ".py",
   "mimetype": "text/x-python",
   "name": "python",
   "nbconvert_exporter": "python",
   "pygments_lexer": "ipython3",
   "version": "3.8.0"
  }
 },
 "nbformat": 4,
 "nbformat_minor": 1
}
