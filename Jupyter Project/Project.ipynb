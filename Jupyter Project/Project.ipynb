{
 "cells": [
  {
   "cell_type": "markdown",
   "metadata": {
    "colab_type": "text",
    "id": "WEnT4bZnu5jQ"
   },
   "source": [
    "# Project"
   ]
  },
  {
   "cell_type": "code",
   "execution_count": 6,
   "metadata": {
    "colab": {
     "base_uri": "https://localhost:8080/",
     "height": 435
    },
    "colab_type": "code",
    "id": "-ZlMuBGau5ji",
    "outputId": "5da0cfb2-cb8b-4e74-b855-c6f5ee880513"
   },
   "outputs": [],
   "source": [
    "import os\n",
    "import numpy as np\n",
    "from sklearn import svm\n",
    "from sklearn.model_selection import train_test_split\n",
    "from matplotlib import pyplot as plt\n",
    "\n",
    "\n",
    "tile_size = 19\n",
    "feature_count = 3\n",
    "input_count = tile_size * tile_size * feature_count\n",
    "DATA_FILES_ROOT = \"../Model/DataFiles/\""
   ]
  },
  {
   "cell_type": "code",
   "execution_count": 19,
   "metadata": {},
   "outputs": [],
   "source": [
    "def load_train_data(dataset_name: str) -> np.array:\n",
    "    \"\"\"\n",
    "    Load data files for the given dataset.\n",
    "\n",
    "    :param dataset_name: Name of the data set.\n",
    "    :return: np.array of data files in (input_count, ) shape\n",
    "    \"\"\"\n",
    "    data_path = DATA_FILES_ROOT + dataset_name + \"_data/\"\n",
    "    data_files = os.listdir(data_path)\n",
    "    data_array = [None] * len(data_files)\n",
    "    for i, file in enumerate(data_files):\n",
    "        if i % 1000 == 0:\n",
    "            print(f\"loading {i}. file\")\n",
    "        data = np.loadtxt(data_path + file, skiprows=1, delimiter=',')\n",
    "        data_array[i] = data.flatten()\n",
    "    return np.array(data_array)\n",
    "\n",
    "\n",
    "def load_train_labels(dataset_name: str) -> np.array:\n",
    "    \"\"\"\n",
    "    Load data labels for the given dataset.\n",
    "\n",
    "    :param dataset_name: Name of the data set.\n",
    "    :return: np.array of the data labels\n",
    "    \"\"\"\n",
    "    labels_file = DATA_FILES_ROOT + dataset_name + \"_truth.csv\"\n",
    "    labels = np.loadtxt(labels_file, delimiter=',')\n",
    "    labels_array = [None] * len(labels)\n",
    "    for i, label in enumerate(labels):\n",
    "        labels_array[i] = label[2]\n",
    "    return np.array(labels_array)"
   ]
  },
  {
   "cell_type": "code",
   "execution_count": 41,
   "metadata": {},
   "outputs": [
    {
     "name": "stdout",
     "output_type": "stream",
     "text": [
      "Loading 0. file.\n",
      "Loading 1000. file.\n",
      "Loading 2000. file.\n",
      "Loading 3000. file.\n",
      "Loading 4000. file.\n",
      "Loading 5000. file.\n",
      "Loading 6000. file.\n",
      "[1.881135e+00 1.000732e+00 5.479591e+00 ... 3.179000e-03 9.857000e-03\n",
      " 1.899386e+00]\n",
      "(6485, 1080)\n",
      "[0. 0. 0. 0. 0. 0. 0. 0. 0. 0.]\n",
      "(6485,)\n"
     ]
    }
   ],
   "source": [
    "datasets = [\"small_bmw\"]\n",
    "\n",
    "data = None\n",
    "labels = np.array([])\n",
    "\n",
    "for dataset in datasets:\n",
    "    if (data == None):\n",
    "        data = load_train_data(dataset)\n",
    "    else:\n",
    "        data = np.concatenate((data, load_train_data(dataset)), axis=0)\n",
    "    labels = np.concatenate((labels, load_train_labels(dataset)), axis=0)\n",
    "\n",
    "print(data[0])\n",
    "print(data.shape)\n",
    "print(labels[0:10])\n",
    "print(labels.shape)"
   ]
  },
  {
   "cell_type": "code",
   "execution_count": 42,
   "metadata": {
    "colab": {
     "base_uri": "https://localhost:8080/",
     "height": 204
    },
    "colab_type": "code",
    "id": "uqJeDH0Jgq3u",
    "outputId": "3c13268c-c4a7-4421-e61f-54dfdb4dee1b"
   },
   "outputs": [
    {
     "name": "stdout",
     "output_type": "stream",
     "text": [
      "800\n",
      "200\n",
      "383.0\n"
     ]
    }
   ],
   "source": [
    "#train, test = train_test_split(df, test_size=0.2)\n",
    "\n",
    "data = data[1000:2000]\n",
    "labels = labels[1000:2000]\n",
    "\n",
    "split = int(len(data)*0.8)\n",
    "train_X = data[:split]\n",
    "train_y = labels[:split]\n",
    "test_X = data[split:]\n",
    "test_y = labels[split:]\n",
    "\n",
    "print(len(train_X))\n",
    "print(len(test_X))\n",
    "print(np.sum(train_y))"
   ]
  },
  {
   "cell_type": "markdown",
   "metadata": {
    "colab_type": "text",
    "id": "yhchzYAxKNou"
   },
   "source": [
    "# Model fitting"
   ]
  },
  {
   "cell_type": "code",
   "execution_count": 31,
   "metadata": {
    "colab": {
     "base_uri": "https://localhost:8080/",
     "height": 55
    },
    "colab_type": "code",
    "id": "7ZElIFH8o63W",
    "outputId": "2c9807df-0ec1-4283-d0d6-d7a3b3fca88b"
   },
   "outputs": [
    {
     "ename": "ValueError",
     "evalue": "The number of classes has to be greater than one; got 1 class",
     "output_type": "error",
     "traceback": [
      "\u001b[1;31m---------------------------------------------------------------------------\u001b[0m",
      "\u001b[1;31mValueError\u001b[0m                                Traceback (most recent call last)",
      "\u001b[1;32m<ipython-input-31-047d86f86a6f>\u001b[0m in \u001b[0;36m<module>\u001b[1;34m\u001b[0m\n\u001b[0;32m      1\u001b[0m \u001b[0mrbf_svm\u001b[0m \u001b[1;33m=\u001b[0m \u001b[0msvm\u001b[0m\u001b[1;33m.\u001b[0m\u001b[0mSVC\u001b[0m\u001b[1;33m(\u001b[0m\u001b[0mC\u001b[0m\u001b[1;33m=\u001b[0m\u001b[1;36m1000\u001b[0m\u001b[1;33m,\u001b[0m \u001b[0mgamma\u001b[0m\u001b[1;33m=\u001b[0m\u001b[1;36m1\u001b[0m\u001b[1;33m/\u001b[0m\u001b[1;36m100000\u001b[0m\u001b[1;33m,\u001b[0m \u001b[0mkernel\u001b[0m\u001b[1;33m=\u001b[0m\u001b[1;34m'rbf'\u001b[0m\u001b[1;33m)\u001b[0m\u001b[1;33m\u001b[0m\u001b[1;33m\u001b[0m\u001b[0m\n\u001b[1;32m----> 2\u001b[1;33m \u001b[0mrbf_svm\u001b[0m\u001b[1;33m.\u001b[0m\u001b[0mfit\u001b[0m\u001b[1;33m(\u001b[0m\u001b[0mtrain_X\u001b[0m\u001b[1;33m,\u001b[0m \u001b[0mtrain_y\u001b[0m\u001b[1;33m)\u001b[0m\u001b[1;33m\u001b[0m\u001b[1;33m\u001b[0m\u001b[0m\n\u001b[0m\u001b[0;32m      3\u001b[0m \u001b[1;33m\u001b[0m\u001b[0m\n\u001b[0;32m      4\u001b[0m \u001b[0mprint\u001b[0m\u001b[1;33m(\u001b[0m\u001b[1;34m\"Train accuracy: {}\"\u001b[0m\u001b[1;33m.\u001b[0m\u001b[0mformat\u001b[0m\u001b[1;33m(\u001b[0m\u001b[0mrbf_svm\u001b[0m\u001b[1;33m.\u001b[0m\u001b[0mscore\u001b[0m\u001b[1;33m(\u001b[0m\u001b[0mtrain_X\u001b[0m\u001b[1;33m,\u001b[0m \u001b[0mtrain_y\u001b[0m\u001b[1;33m)\u001b[0m\u001b[1;33m)\u001b[0m\u001b[1;33m)\u001b[0m\u001b[1;33m\u001b[0m\u001b[1;33m\u001b[0m\u001b[0m\n\u001b[0;32m      5\u001b[0m \u001b[0mprint\u001b[0m\u001b[1;33m(\u001b[0m\u001b[1;34m\"Test accuracy: {}\"\u001b[0m\u001b[1;33m.\u001b[0m\u001b[0mformat\u001b[0m\u001b[1;33m(\u001b[0m\u001b[0mrbf_svm\u001b[0m\u001b[1;33m.\u001b[0m\u001b[0mscore\u001b[0m\u001b[1;33m(\u001b[0m\u001b[0mtest_X\u001b[0m\u001b[1;33m,\u001b[0m \u001b[0mtest_y\u001b[0m\u001b[1;33m)\u001b[0m\u001b[1;33m)\u001b[0m\u001b[1;33m)\u001b[0m\u001b[1;33m\u001b[0m\u001b[1;33m\u001b[0m\u001b[0m\n",
      "\u001b[1;32mc:\\program files\\python38\\lib\\site-packages\\sklearn\\svm\\_base.py\u001b[0m in \u001b[0;36mfit\u001b[1;34m(self, X, y, sample_weight)\u001b[0m\n\u001b[0;32m    147\u001b[0m                          \u001b[0morder\u001b[0m\u001b[1;33m=\u001b[0m\u001b[1;34m'C'\u001b[0m\u001b[1;33m,\u001b[0m \u001b[0maccept_sparse\u001b[0m\u001b[1;33m=\u001b[0m\u001b[1;34m'csr'\u001b[0m\u001b[1;33m,\u001b[0m\u001b[1;33m\u001b[0m\u001b[1;33m\u001b[0m\u001b[0m\n\u001b[0;32m    148\u001b[0m                          accept_large_sparse=False)\n\u001b[1;32m--> 149\u001b[1;33m         \u001b[0my\u001b[0m \u001b[1;33m=\u001b[0m \u001b[0mself\u001b[0m\u001b[1;33m.\u001b[0m\u001b[0m_validate_targets\u001b[0m\u001b[1;33m(\u001b[0m\u001b[0my\u001b[0m\u001b[1;33m)\u001b[0m\u001b[1;33m\u001b[0m\u001b[1;33m\u001b[0m\u001b[0m\n\u001b[0m\u001b[0;32m    150\u001b[0m \u001b[1;33m\u001b[0m\u001b[0m\n\u001b[0;32m    151\u001b[0m         sample_weight = np.asarray([]\n",
      "\u001b[1;32mc:\\program files\\python38\\lib\\site-packages\\sklearn\\svm\\_base.py\u001b[0m in \u001b[0;36m_validate_targets\u001b[1;34m(self, y)\u001b[0m\n\u001b[0;32m    527\u001b[0m         \u001b[0mself\u001b[0m\u001b[1;33m.\u001b[0m\u001b[0mclass_weight_\u001b[0m \u001b[1;33m=\u001b[0m \u001b[0mcompute_class_weight\u001b[0m\u001b[1;33m(\u001b[0m\u001b[0mself\u001b[0m\u001b[1;33m.\u001b[0m\u001b[0mclass_weight\u001b[0m\u001b[1;33m,\u001b[0m \u001b[0mcls\u001b[0m\u001b[1;33m,\u001b[0m \u001b[0my_\u001b[0m\u001b[1;33m)\u001b[0m\u001b[1;33m\u001b[0m\u001b[1;33m\u001b[0m\u001b[0m\n\u001b[0;32m    528\u001b[0m         \u001b[1;32mif\u001b[0m \u001b[0mlen\u001b[0m\u001b[1;33m(\u001b[0m\u001b[0mcls\u001b[0m\u001b[1;33m)\u001b[0m \u001b[1;33m<\u001b[0m \u001b[1;36m2\u001b[0m\u001b[1;33m:\u001b[0m\u001b[1;33m\u001b[0m\u001b[1;33m\u001b[0m\u001b[0m\n\u001b[1;32m--> 529\u001b[1;33m             raise ValueError(\n\u001b[0m\u001b[0;32m    530\u001b[0m                 \u001b[1;34m\"The number of classes has to be greater than one; got %d\"\u001b[0m\u001b[1;33m\u001b[0m\u001b[1;33m\u001b[0m\u001b[0m\n\u001b[0;32m    531\u001b[0m                 \" class\" % len(cls))\n",
      "\u001b[1;31mValueError\u001b[0m: The number of classes has to be greater than one; got 1 class"
     ]
    }
   ],
   "source": [
    "rbf_svm = svm.SVC(C=1000, gamma=1/100000, kernel='rbf')\n",
    "rbf_svm.fit(train_X, train_y)\n",
    "\n",
    "print(\"Train accuracy: {}\".format(rbf_svm.score(train_X, train_y)))\n",
    "print(\"Test accuracy: {}\".format(rbf_svm.score(test_X, test_y)))"
   ]
  },
  {
   "cell_type": "markdown",
   "metadata": {
    "colab_type": "text",
    "id": "splLOfKvKhjb"
   },
   "source": [
    "Final test accuracy confirms, that the model is right about 80% of the time, not bad! I suppose this confirms the claim, that there really is a correlation between the location of the passanger, his willingness to pay the tip and the type of payment he has used."
   ]
  },
  {
   "cell_type": "code",
   "execution_count": 0,
   "metadata": {
    "colab": {
     "base_uri": "https://localhost:8080/",
     "height": 36
    },
    "colab_type": "code",
    "id": "xjMGpZE97f5g",
    "outputId": "1a0e1348-fa68-433d-f134-0f1907645dcb"
   },
   "outputs": [
    {
     "name": "stdout",
     "output_type": "stream",
     "text": [
      "Test accuracy: 0.79125\n"
     ]
    }
   ],
   "source": [
    "print(\"Test accuracy: {}\".format(rbf_svm.score(test_X, test_y)))"
   ]
  },
  {
   "cell_type": "markdown",
   "metadata": {
    "colab_type": "text",
    "id": "Hl8wzhIi_uLh"
   },
   "source": [
    "\n",
    "\n",
    "---\n"
   ]
  }
 ],
 "metadata": {
  "colab": {
   "collapsed_sections": [],
   "name": "Project.ipynb",
   "provenance": [],
   "toc_visible": true
  },
  "kernelspec": {
   "display_name": "Python 3",
   "language": "python",
   "name": "python3"
  },
  "language_info": {
   "codemirror_mode": {
    "name": "ipython",
    "version": 3
   },
   "file_extension": ".py",
   "mimetype": "text/x-python",
   "name": "python",
   "nbconvert_exporter": "python",
   "pygments_lexer": "ipython3",
   "version": "3.8.0"
  }
 },
 "nbformat": 4,
 "nbformat_minor": 1
}
