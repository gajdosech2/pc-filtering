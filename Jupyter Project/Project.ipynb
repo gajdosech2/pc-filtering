{
 "cells": [
  {
   "cell_type": "markdown",
   "metadata": {
    "colab_type": "text",
    "id": "WEnT4bZnu5jQ"
   },
   "source": [
    "# Project"
   ]
  },
  {
   "cell_type": "code",
   "execution_count": 1,
   "metadata": {
    "colab": {
     "base_uri": "https://localhost:8080/",
     "height": 435
    },
    "colab_type": "code",
    "id": "-ZlMuBGau5ji",
    "outputId": "5da0cfb2-cb8b-4e74-b855-c6f5ee880513"
   },
   "outputs": [],
   "source": [
    "import os\n",
    "import numpy as np\n",
    "from sklearn import svm\n",
    "from sklearn.model_selection import train_test_split\n",
    "from matplotlib import pyplot as plt\n",
    "\n",
    "\n",
    "tile_size = 19\n",
    "feature_count = 3\n",
    "input_count = tile_size * tile_size * feature_count\n",
    "DATA_FILES_ROOT = \"../Model/DataFiles/\""
   ]
  },
  {
   "cell_type": "code",
   "execution_count": 2,
   "metadata": {},
   "outputs": [],
   "source": [
    "def load_train_data(dataset_name: str) -> np.array:\n",
    "    \"\"\"\n",
    "    Load data files for the given dataset.\n",
    "\n",
    "    :param dataset_name: Name of the data set.\n",
    "    :return: np.array of data files in (input_count, ) shape\n",
    "    \"\"\"\n",
    "    data_path = DATA_FILES_ROOT + dataset_name + \"_data/\"\n",
    "    data_files = os.listdir(data_path)\n",
    "    data_array = [None] * len(data_files)\n",
    "    for i, file in enumerate(data_files):\n",
    "        if i % 1000 == 0:\n",
    "            print(f\"loading {i}. file\")\n",
    "        data = np.loadtxt(data_path + file, skiprows=1, delimiter=',')\n",
    "        data_array[i] = data.flatten()\n",
    "    return np.array(data_array)\n",
    "\n",
    "\n",
    "def load_train_labels(dataset_name: str) -> np.array:\n",
    "    \"\"\"\n",
    "    Load data labels for the given dataset.\n",
    "\n",
    "    :param dataset_name: Name of the data set.\n",
    "    :return: np.array of the data labels\n",
    "    \"\"\"\n",
    "    labels_file = DATA_FILES_ROOT + dataset_name + \"_truth.csv\"\n",
    "    labels = np.loadtxt(labels_file, delimiter=',')\n",
    "    labels_array = [None] * len(labels)\n",
    "    for i, label in enumerate(labels):\n",
    "        labels_array[i] = label[2]\n",
    "    return np.array(labels_array)"
   ]
  },
  {
   "cell_type": "code",
   "execution_count": 3,
   "metadata": {},
   "outputs": [
    {
     "name": "stdout",
     "output_type": "stream",
     "text": [
      "loading 0. file\n",
      "loading 1000. file\n",
      "loading 2000. file\n",
      "loading 3000. file\n",
      "loading 4000. file\n",
      "loading 5000. file\n",
      "loading 6000. file\n",
      "loading 0. file\n",
      "loading 1000. file\n",
      "loading 2000. file\n",
      "loading 3000. file\n",
      "loading 4000. file\n",
      "loading 5000. file\n",
      "loading 6000. file\n",
      "loading 7000. file\n",
      "loading 8000. file\n",
      "loading 0. file\n",
      "loading 1000. file\n",
      "loading 2000. file\n",
      "loading 3000. file\n",
      "loading 4000. file\n",
      "loading 5000. file\n",
      "loading 6000. file\n",
      "(21276, 1080)\n",
      "(21276,)\n"
     ]
    }
   ],
   "source": [
    "datasets = [\"bmw_02\", \"fruit_02\", \"toilet_01\"]\n",
    "\n",
    "data = []\n",
    "labels = np.array([])\n",
    "\n",
    "for dataset in datasets:\n",
    "    if (len(data) == 0):\n",
    "        data = load_train_data(dataset)\n",
    "    else:\n",
    "        data = np.concatenate((data, load_train_data(dataset)), axis=0)\n",
    "    labels = np.concatenate((labels, load_train_labels(dataset)), axis=0)\n",
    "\n",
    "print(data.shape)\n",
    "print(labels.shape)"
   ]
  },
  {
   "cell_type": "code",
   "execution_count": 5,
   "metadata": {
    "colab": {
     "base_uri": "https://localhost:8080/",
     "height": 204
    },
    "colab_type": "code",
    "id": "uqJeDH0Jgq3u",
    "outputId": "3c13268c-c4a7-4421-e61f-54dfdb4dee1b"
   },
   "outputs": [
    {
     "name": "stdout",
     "output_type": "stream",
     "text": [
      "1488\n",
      "634.0\n"
     ]
    }
   ],
   "source": [
    "train_X, eval_X, train_y, eval_y = train_test_split(data, labels, test_size=0.9, random_state=42)\n",
    "train_X, test_X, train_y, test_y = train_test_split(train_X, train_y, test_size=0.3, random_state=42)\n",
    "\n",
    "print(len(train_X))\n",
    "print(np.sum(train_y))"
   ]
  },
  {
   "cell_type": "markdown",
   "metadata": {
    "colab_type": "text",
    "id": "yhchzYAxKNou"
   },
   "source": [
    "# Model fitting"
   ]
  },
  {
   "cell_type": "code",
   "execution_count": 11,
   "metadata": {
    "colab": {
     "base_uri": "https://localhost:8080/",
     "height": 55
    },
    "colab_type": "code",
    "id": "7ZElIFH8o63W",
    "outputId": "2c9807df-0ec1-4283-d0d6-d7a3b3fca88b"
   },
   "outputs": [
    {
     "name": "stdout",
     "output_type": "stream",
     "text": [
      "Train accuracy: 0.6559139784946236\n",
      "Test accuracy: 0.5743348982785602\n"
     ]
    }
   ],
   "source": [
    "rbf_svm = svm.SVC(C=10, gamma=1/10000, kernel='rbf')\n",
    "rbf_svm.fit(train_X, train_y)\n",
    "\n",
    "print(\"Train accuracy: {}\".format(rbf_svm.score(train_X, train_y)))\n",
    "print(\"Test accuracy: {}\".format(rbf_svm.score(test_X, test_y)))"
   ]
  },
  {
   "cell_type": "markdown",
   "metadata": {
    "colab_type": "text",
    "id": "splLOfKvKhjb"
   },
   "source": [
    "Final test accuracy confirms, that the model is right about 80% of the time, not bad! I suppose this confirms the claim, that there really is a correlation between the location of the passanger, his willingness to pay the tip and the type of payment he has used."
   ]
  },
  {
   "cell_type": "code",
   "execution_count": 0,
   "metadata": {
    "colab": {
     "base_uri": "https://localhost:8080/",
     "height": 36
    },
    "colab_type": "code",
    "id": "xjMGpZE97f5g",
    "outputId": "1a0e1348-fa68-433d-f134-0f1907645dcb"
   },
   "outputs": [
    {
     "name": "stdout",
     "output_type": "stream",
     "text": [
      "Test accuracy: 0.79125\n"
     ]
    }
   ],
   "source": [
    "print(\"Test accuracy: {}\".format(rbf_svm.score(test_X, test_y)))"
   ]
  },
  {
   "cell_type": "markdown",
   "metadata": {
    "colab_type": "text",
    "id": "Hl8wzhIi_uLh"
   },
   "source": [
    "\n",
    "\n",
    "---\n"
   ]
  }
 ],
 "metadata": {
  "colab": {
   "collapsed_sections": [],
   "name": "Project.ipynb",
   "provenance": [],
   "toc_visible": true
  },
  "kernelspec": {
   "display_name": "Python 3",
   "language": "python",
   "name": "python3"
  },
  "language_info": {
   "codemirror_mode": {
    "name": "ipython",
    "version": 3
   },
   "file_extension": ".py",
   "mimetype": "text/x-python",
   "name": "python",
   "nbconvert_exporter": "python",
   "pygments_lexer": "ipython3",
   "version": "3.8.0"
  }
 },
 "nbformat": 4,
 "nbformat_minor": 1
}
