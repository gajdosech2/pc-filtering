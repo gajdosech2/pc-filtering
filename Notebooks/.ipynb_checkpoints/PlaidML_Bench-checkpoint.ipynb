{
 "cells": [
  {
   "cell_type": "code",
   "execution_count": 2,
   "metadata": {},
   "outputs": [
    {
     "name": "stderr",
     "output_type": "stream",
     "text": [
      "Using plaidml.keras.backend backend.\n"
     ]
    },
    {
     "name": "stdout",
     "output_type": "stream",
     "text": [
      "2.2.4\n"
     ]
    }
   ],
   "source": [
    "import time\n",
    "import os\n",
    "#import tensorflow as tf\n",
    "import inspect\n",
    "\n",
    "os.environ[\"KERAS_BACKEND\"] = \"plaidml.keras.backend\"\n",
    "\n",
    "import keras\n",
    "import keras.applications as kapp\n",
    "\n",
    "print(keras.__version__)"
   ]
  },
  {
   "cell_type": "code",
   "execution_count": 22,
   "metadata": {},
   "outputs": [
    {
     "data": {
      "text/plain": [
       "['K',\n",
       " 'MAE',\n",
       " 'MAPE',\n",
       " 'MSE',\n",
       " 'MSLE',\n",
       " '__builtins__',\n",
       " '__cached__',\n",
       " '__doc__',\n",
       " '__file__',\n",
       " '__loader__',\n",
       " '__name__',\n",
       " '__package__',\n",
       " '__spec__',\n",
       " 'absolute_import',\n",
       " 'binary_accuracy',\n",
       " 'binary_crossentropy',\n",
       " 'categorical_accuracy',\n",
       " 'categorical_crossentropy',\n",
       " 'cosine',\n",
       " 'cosine_proximity',\n",
       " 'deserialize',\n",
       " 'deserialize_keras_object',\n",
       " 'division',\n",
       " 'get',\n",
       " 'hinge',\n",
       " 'kullback_leibler_divergence',\n",
       " 'logcosh',\n",
       " 'mae',\n",
       " 'mape',\n",
       " 'mean_absolute_error',\n",
       " 'mean_absolute_percentage_error',\n",
       " 'mean_squared_error',\n",
       " 'mean_squared_logarithmic_error',\n",
       " 'mse',\n",
       " 'msle',\n",
       " 'poisson',\n",
       " 'print_function',\n",
       " 'serialize',\n",
       " 'serialize_keras_object',\n",
       " 'six',\n",
       " 'sparse_categorical_accuracy',\n",
       " 'sparse_categorical_crossentropy',\n",
       " 'sparse_top_k_categorical_accuracy',\n",
       " 'squared_hinge',\n",
       " 'top_k_categorical_accuracy']"
      ]
     },
     "execution_count": 22,
     "metadata": {},
     "output_type": "execute_result"
    }
   ],
   "source": [
    "dir(keras.metrics)"
   ]
  },
  {
   "cell_type": "code",
   "execution_count": 3,
   "metadata": {},
   "outputs": [],
   "source": [
    "def get_compiled_model():\n",
    "    # Make a simple 2-layer densely-connected neural network.\n",
    "    inputs = keras.Input(shape=(784,))\n",
    "    x = keras.layers.Dense(256, activation=\"relu\")(inputs)\n",
    "    x = keras.layers.Dense(256, activation=\"relu\")(x)\n",
    "    outputs = keras.layers.Dense(10)(x)\n",
    "    model = keras.Model(inputs, outputs)\n",
    "    model.compile(\n",
    "        optimizer=keras.optimizers.Adam(),\n",
    "        loss='sparse_categorical_crossentropy',\n",
    "        metrics=['sparse_categorical_accuracy'],\n",
    "    )\n",
    "    return model\n",
    "\n",
    "batch_size = 32\n",
    "def get_dataset():\n",
    "    num_val_samples = 10000\n",
    "\n",
    "    (x_train, y_train), (x_test, y_test) = keras.datasets.mnist.load_data()\n",
    "\n",
    "    # Preprocess the data (these are Numpy arrays)\n",
    "    x_train = x_train.reshape(-1, 784).astype(\"float32\") / 255\n",
    "    x_test = x_test.reshape(-1, 784).astype(\"float32\") / 255\n",
    "    y_train = y_train.astype(\"float32\")\n",
    "    y_test = y_test.astype(\"float32\")\n",
    "\n",
    "    # Reserve num_val_samples samples for validation\n",
    "    x_val = x_train[-num_val_samples:]\n",
    "    y_val = y_train[-num_val_samples:]\n",
    "    x_train = x_train[:-num_val_samples]\n",
    "    y_train = y_train[:-num_val_samples]\n",
    "    return (\n",
    "        (x_train, y_train),\n",
    "        (x_val, y_val),\n",
    "        (x_test, y_test)\n",
    "    )"
   ]
  },
  {
   "cell_type": "code",
   "execution_count": 4,
   "metadata": {},
   "outputs": [
    {
     "name": "stderr",
     "output_type": "stream",
     "text": [
      "INFO:plaidml:Opening device \"opencl_amd_ellesmere.0\"\n"
     ]
    },
    {
     "name": "stdout",
     "output_type": "stream",
     "text": [
      "Downloading data from https://s3.amazonaws.com/img-datasets/mnist.npz\n",
      "11493376/11490434 [==============================] - 2s 0us/step\n"
     ]
    }
   ],
   "source": [
    "model = get_compiled_model()\n",
    "train_dataset, val_dataset, test_dataset = get_dataset()"
   ]
  },
  {
   "cell_type": "code",
   "execution_count": 32,
   "metadata": {},
   "outputs": [
    {
     "name": "stderr",
     "output_type": "stream",
     "text": [
      "c:\\python\\python37\\lib\\site-packages\\ipykernel_launcher.py:1: DeprecationWarning: inspect.getargspec() is deprecated since Python 3.0, use inspect.signature() or inspect.getfullargspec()\n",
      "  \"\"\"Entry point for launching an IPython kernel.\n"
     ]
    },
    {
     "data": {
      "text/plain": [
       "ArgSpec(args=['self', 'x', 'y', 'batch_size', 'epochs', 'verbose', 'callbacks', 'validation_split', 'validation_data', 'shuffle', 'class_weight', 'sample_weight', 'initial_epoch', 'steps_per_epoch', 'validation_steps'], varargs=None, keywords='kwargs', defaults=(None, None, None, 1, 1, None, 0.0, None, True, None, None, 0, None, None))"
      ]
     },
     "execution_count": 32,
     "metadata": {},
     "output_type": "execute_result"
    }
   ],
   "source": [
    "inspect.getargspec(model.fit)"
   ]
  },
  {
   "cell_type": "code",
   "execution_count": 6,
   "metadata": {},
   "outputs": [
    {
     "name": "stdout",
     "output_type": "stream",
     "text": [
      "Train on 50000 samples, validate on 10000 samples\n",
      "Epoch 1/10\n",
      "50000/50000 [==============================] - 49s 972us/step - loss: 9.8153 - sparse_categorical_accuracy: 0.1109 - val_loss: 9.8546 - val_sparse_categorical_accuracy: 0.1120\n",
      "Epoch 2/10\n",
      "50000/50000 [==============================] - 44s 876us/step - loss: 9.8153 - sparse_categorical_accuracy: 0.1109 - val_loss: 9.8546 - val_sparse_categorical_accuracy: 0.1120\n",
      "Epoch 3/10\n",
      "50000/50000 [==============================] - 43s 866us/step - loss: 9.8153 - sparse_categorical_accuracy: 0.1109 - val_loss: 9.8546 - val_sparse_categorical_accuracy: 0.1120\n",
      "Epoch 4/10\n",
      "50000/50000 [==============================] - 107s 2ms/step - loss: 9.8153 - sparse_categorical_accuracy: 0.1109 - val_loss: 9.8546 - val_sparse_categorical_accuracy: 0.1120\n",
      "Epoch 5/10\n",
      "50000/50000 [==============================] - 59s 1ms/step - loss: 9.8153 - sparse_categorical_accuracy: 0.1109 - val_loss: 9.8546 - val_sparse_categorical_accuracy: 0.1120\n",
      "Epoch 6/10\n",
      "50000/50000 [==============================] - 35s 693us/step - loss: 9.8153 - sparse_categorical_accuracy: 0.1109 - val_loss: 9.8546 - val_sparse_categorical_accuracy: 0.1120\n",
      "Epoch 7/10\n",
      "50000/50000 [==============================] - 35s 698us/step - loss: 9.8153 - sparse_categorical_accuracy: 0.1109 - val_loss: 9.8546 - val_sparse_categorical_accuracy: 0.1120\n",
      "Epoch 8/10\n",
      "50000/50000 [==============================] - 35s 710us/step - loss: 9.8153 - sparse_categorical_accuracy: 0.1109 - val_loss: 9.8546 - val_sparse_categorical_accuracy: 0.1120\n",
      "Epoch 9/10\n",
      "50000/50000 [==============================] - 45s 907us/step - loss: 9.8153 - sparse_categorical_accuracy: 0.1109 - val_loss: 9.8546 - val_sparse_categorical_accuracy: 0.1120\n",
      "Epoch 10/10\n",
      "50000/50000 [==============================] - 54s 1ms/step - loss: 9.8153 - sparse_categorical_accuracy: 0.1109 - val_loss: 9.8546 - val_sparse_categorical_accuracy: 0.1120\n",
      "Ran in 505.8783323764801 seconds\n"
     ]
    }
   ],
   "source": [
    "start = time.time()\n",
    "# Train the model on all available devices.\n",
    "model.fit(x = train_dataset[0], y = train_dataset[1], batch_size = batch_size, epochs=10, validation_data=val_dataset)\n",
    "print(\"Ran in {} seconds\".format(time.time() - start))"
   ]
  },
  {
   "cell_type": "markdown",
   "metadata": {},
   "source": [
    "RTX 2060 time: 130.99 seconds\n",
    "RX 470 time: 505.87 seconds"
   ]
  },
  {
   "cell_type": "code",
   "execution_count": 15,
   "metadata": {},
   "outputs": [
    {
     "name": "stderr",
     "output_type": "stream",
     "text": [
      "c:\\python\\python37\\lib\\site-packages\\ipykernel_launcher.py:1: DeprecationWarning: inspect.getargspec() is deprecated since Python 3.0, use inspect.signature() or inspect.getfullargspec()\n",
      "  \"\"\"Entry point for launching an IPython kernel.\n"
     ]
    },
    {
     "data": {
      "text/plain": [
       "ArgSpec(args=['self', 'x', 'y', 'batch_size', 'verbose', 'sample_weight', 'steps'], varargs=None, keywords=None, defaults=(None, None, None, 1, None, None))"
      ]
     },
     "execution_count": 15,
     "metadata": {},
     "output_type": "execute_result"
    }
   ],
   "source": [
    "inspect.getargspec(model.evaluate)"
   ]
  },
  {
   "cell_type": "code",
   "execution_count": 21,
   "metadata": {},
   "outputs": [
    {
     "name": "stdout",
     "output_type": "stream",
     "text": [
      "10000/10000 [==============================] - 1s 86us/step\n",
      "test loss, test acc: [11.392269830322265, 0.2026]\n"
     ]
    }
   ],
   "source": [
    "# Test the model on all available devices.\n",
    "results = model.evaluate(x = test_dataset[0], y = test_dataset[1])\n",
    "print(\"test loss, test acc:\", results)"
   ]
  },
  {
   "cell_type": "code",
   "execution_count": null,
   "metadata": {},
   "outputs": [],
   "source": []
  }
 ],
 "metadata": {
  "kernelspec": {
   "display_name": "Python 3",
   "language": "python",
   "name": "python3"
  },
  "language_info": {
   "codemirror_mode": {
    "name": "ipython",
    "version": 3
   },
   "file_extension": ".py",
   "mimetype": "text/x-python",
   "name": "python",
   "nbconvert_exporter": "python",
   "pygments_lexer": "ipython3",
   "version": "3.8.3"
  }
 },
 "nbformat": 4,
 "nbformat_minor": 4
}
